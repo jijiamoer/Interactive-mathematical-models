{
 "cells": [
  {
   "cell_type": "code",
   "execution_count": 2,
   "metadata": {},
   "outputs": [
    {
     "data": {
      "application/vnd.jupyter.widget-view+json": {
       "model_id": "bf8777095ba94e76a87329f8aad27a89",
       "version_major": 2,
       "version_minor": 0
      },
      "text/plain": [
       "interactive(children=(FloatSlider(value=0.8, description='i', max=0.8, min=0.6666666666666666, step=0.01), Out…"
      ]
     },
     "execution_count": 2,
     "metadata": {},
     "output_type": "execute_result"
    }
   ],
   "source": [
    "import numpy as np\n",
    "import matplotlib.pyplot as plt\n",
    "from scipy.integrate import odeint\n",
    "import ipywidgets as widgets\n",
    "from IPython.display import display\n",
    "\n",
    "# 模型参数\n",
    "lambda_ = 0.3  # 日接触率\n",
    "mu = 0.1  # 日治愈率\n",
    "sigma = lambda_ / mu  # 接触数\n",
    "i0 = 0.8  # 初始感染比例,满足 i0 > 1 - 1/sigma\n",
    "\n",
    "# 求解微分方程\n",
    "def deriv(i, t):\n",
    "    return lambda_ * i * (1 - i) - mu * i\n",
    "\n",
    "t = np.linspace(0, 100, 1000)\n",
    "i_sol = odeint(deriv, i0, t)\n",
    "\n",
    "# 更新函数\n",
    "def update(i_val):\n",
    "    fig, (ax1, ax2, ax3) = plt.subplots(1, 3, figsize=(15, 5))\n",
    "    \n",
    "    ax1.plot(t, i_sol)\n",
    "    ax1.axhline(1 - 1/sigma, linestyle='--', color='r', label=r'$i(\\infty) = 1 - \\frac{1}{\\sigma}$')\n",
    "    ax1.plot(t[np.argmin(np.abs(i_sol - i_val))], i_val, 'go', label=f'i = {i_val:.2f}')\n",
    "    ax1.set_xlabel('t')\n",
    "    ax1.set_ylabel('i(t)')\n",
    "    ax1.set_title('Infected Population')\n",
    "    ax1.legend()\n",
    "\n",
    "    i_range = np.linspace(0, 1, 100)\n",
    "    f_i = lambda_ * i_range * (1 - i_range) - mu * i_range\n",
    "    ax2.plot(i_range, f_i)\n",
    "    ax2.axhline(0, linestyle='--', color='r', label='f(i) = 0')\n",
    "    ax2.plot(1 - 1/sigma, 0, 'ro', label=r'$i^* = 1 - \\frac{1}{\\sigma}$')\n",
    "    ax2.plot(i_val, lambda_ * i_val * (1 - i_val) - mu * i_val, 'go', label=f'f({i_val:.2f})')\n",
    "    ax2.set_xlabel('i')\n",
    "    ax2.set_ylabel('f(i) = di/dt')\n",
    "    ax2.set_title('Rate of Change')\n",
    "    ax2.legend()\n",
    "\n",
    "    f_dash_i = lambda_ * (1 - 2 * i_range) - mu\n",
    "    ax3.plot(i_range, f_dash_i)\n",
    "    ax3.axhline(0, linestyle='--', color='r', label=\"f'(i) = 0\")\n",
    "    ax3.plot(1 - 1/sigma, lambda_ * (1 - 2 * (1 - 1/sigma)) - mu, 'ro', label=r\"$i^* = 1 - \\frac{1}{\\sigma}$\")\n",
    "    ax3.plot(i_val, lambda_ * (1 - 2 * i_val) - mu, 'go', label=f\"f'({i_val:.2f})\")\n",
    "    ax3.set_xlabel('i')\n",
    "    ax3.set_ylabel(\"f'(i)\")\n",
    "    ax3.set_title('Derivative of Rate of Change')\n",
    "    ax3.legend()\n",
    "\n",
    "    plt.tight_layout()\n",
    "    plt.show()\n",
    "\n",
    "# 创建一个滑块并显示它\n",
    "slider = widgets.FloatSlider(value=i0, min=1 - 1/sigma, max=i0, step=0.01, description='i', readout_format='.2f')\n",
    "widgets.interactive(update, i_val=slider)\n"
   ]
  }
 ],
 "metadata": {
  "kernelspec": {
   "display_name": "base",
   "language": "python",
   "name": "python3"
  },
  "language_info": {
   "codemirror_mode": {
    "name": "ipython",
    "version": 3
   },
   "file_extension": ".py",
   "mimetype": "text/x-python",
   "name": "python",
   "nbconvert_exporter": "python",
   "pygments_lexer": "ipython3",
   "version": "3.10.10"
  }
 },
 "nbformat": 4,
 "nbformat_minor": 2
}
